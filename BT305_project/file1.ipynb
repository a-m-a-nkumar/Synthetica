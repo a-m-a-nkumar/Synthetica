{
 "cells": [
  {
   "cell_type": "code",
   "execution_count": 1,
   "metadata": {},
   "outputs": [],
   "source": [
    "import random\n",
    "from string import ascii_uppercase\n",
    "import csv"
   ]
  },
  {
   "cell_type": "code",
   "execution_count": 11,
   "metadata": {},
   "outputs": [],
   "source": [
    "PHI_RANGE = (-135, 135)\n",
    "PSI_RANGE = (-45, 45)\n",
    "PSI_RANGE_2 = (-90, -150)\n",
    "#PHI_RANGE_2 "
   ]
  },
  {
   "cell_type": "code",
   "execution_count": 12,
   "metadata": {},
   "outputs": [],
   "source": [
    "AA_CODES = {\n",
    "    \"A\": \"ALA\",\n",
    "    \"R\": \"ARG\",\n",
    "    \"N\": \"ASN\",\n",
    "    \"D\": \"ASP\",\n",
    "    \"C\": \"CYS\",\n",
    "    \"Q\": \"GLN\",\n",
    "    \"E\": \"GLU\",\n",
    "    \"G\": \"GLY\",\n",
    "    \"H\": \"HIS\",\n",
    "    \"I\": \"ILE\",\n",
    "    \"L\": \"LEU\",\n",
    "    \"K\": \"LYS\",\n",
    "    \"M\": \"MET\",\n",
    "    \"F\": \"PHE\",\n",
    "    \"P\": \"PRO\",\n",
    "    \"S\": \"SER\",\n",
    "    \"T\": \"THR\",\n",
    "    \"W\": \"TRP\",\n",
    "    \"Y\": \"TYR\",\n",
    "    \"V\": \"VAL\"\n",
    "}"
   ]
  },
  {
   "cell_type": "code",
   "execution_count": 13,
   "metadata": {},
   "outputs": [],
   "source": [
    "AA_LIST = list(AA_CODES.values()) + [\"UNK\"]"
   ]
  },
  {
   "cell_type": "code",
   "execution_count": 5,
   "metadata": {},
   "outputs": [],
   "source": [
    "def generate_line():\n",
    "    res_aa = random.choice(AA_LIST)\n",
    "    phi = round(random.uniform(*PHI_RANGE), 2)\n",
    "    psi = round(random.uniform(*PSI_RANGE), 2)\n",
    "    return f\"res {res_aa} phi {phi} psi {psi}\""
   ]
  },
  {
   "cell_type": "code",
   "execution_count": 17,
   "metadata": {},
   "outputs": [],
   "source": [
    "num_lines = int(input(\"Enter the number of sequences: \"))\n",
    "filename = \"random_protein_data.rib\"\n",
    "with open(filename, 'w') as outfile:\n",
    "    for _ in range(num_lines):\n",
    "        outfile.write(f\"{generate_line()}\\n\")"
   ]
  },
  {
   "cell_type": "code",
   "execution_count": 20,
   "metadata": {},
   "outputs": [],
   "source": [
    "with open(\"random_protein_data.rib\", \"r\") as infile:\n",
    "    protein_sequences = [line.strip() for line in infile]\n",
    "\n",
    "# Create a new file with a combination of the protein sequences\n",
    "with open(\"combined_protein_data.rib\", \"w\") as outfile:\n",
    "    for _ in range(100):\n",
    "        combined_protein = \"\\n\".join(random.choices(protein_sequences, k= random.randint(1, len(protein_sequences))))\n",
    "        outfile.write(f\"{combined_protein}\\n\")"
   ]
  },
  {
   "cell_type": "code",
   "execution_count": 14,
   "metadata": {},
   "outputs": [],
   "source": [
    "def generate_line(exclude_aa=None):\n",
    "    aa_list = [aa for aa in AA_LIST if aa != exclude_aa]\n",
    "    res_aa = random.choice(aa_list)\n",
    "    phi = round(random.uniform(*PHI_RANGE), 2)\n",
    "    psi = round(random.uniform(*PSI_RANGE), 2)\n",
    "    return f\"res {res_aa} phi {phi} psi {psi}\""
   ]
  },
  {
   "cell_type": "code",
   "execution_count": 15,
   "metadata": {},
   "outputs": [],
   "source": [
    "exclude_aa = input(\"Enter the amino acid to exclude (single-letter code): \")\n",
    "filename = \"random_protein_data.rib\"\n",
    "with open(filename, 'w') as outfile:\n",
    "    for _ in range(10):\n",
    "        outfile.write(f\"{generate_line(exclude_aa)}\\n\")"
   ]
  },
  {
   "cell_type": "code",
   "execution_count": null,
   "metadata": {},
   "outputs": [],
   "source": [
    "# input -> sequence length (done)\n",
    "# Protein number -> 10000  (done)\n",
    "# Ribosome -> pdb file (terminal) (done)\n",
    "# Custom random generate to exclude amino acid "
   ]
  }
 ],
 "metadata": {
  "kernelspec": {
   "display_name": "Python 3",
   "language": "python",
   "name": "python3"
  },
  "language_info": {
   "codemirror_mode": {
    "name": "ipython",
    "version": 3
   },
   "file_extension": ".py",
   "mimetype": "text/x-python",
   "name": "python",
   "nbconvert_exporter": "python",
   "pygments_lexer": "ipython3",
   "version": "3.8.10"
  }
 },
 "nbformat": 4,
 "nbformat_minor": 2
}
